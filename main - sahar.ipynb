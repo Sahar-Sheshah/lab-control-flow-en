{
  "cells": [
    {
      "cell_type": "markdown",
      "metadata": {
        "id": "rAIP9oZjN4uF"
      },
      "source": [
        "## Words"
      ]
    },
    {
      "cell_type": "code",
      "execution_count": null,
      "metadata": {
        "id": "TN_JA62_N4uJ"
      },
      "outputs": [],
      "source": [
        "words = ['play', 'filling', 'bar', 'theatre', 'easygoing', 'date', 'lead', 'that', 'story',  'island']"
      ]
    },
    {
      "cell_type": "markdown",
      "metadata": {
        "id": "XrlHri1TN4uK"
      },
      "source": [
        "**Print every word in upper case**"
      ]
    },
    {
      "cell_type": "code",
      "execution_count": 1,
      "metadata": {
        "colab": {
          "base_uri": "https://localhost:8080/"
        },
        "id": "noRfcDN1N4uL",
        "outputId": "9c9d6683-4a39-413b-901d-b9d74279147d"
      },
      "outputs": [
        {
          "output_type": "stream",
          "name": "stdout",
          "text": [
            "PLAY\n",
            "FILLING\n",
            "BAR\n",
            "THEATRE\n",
            "EASYGOING\n",
            "DATE\n",
            "LEAD\n",
            "THAT\n",
            "STORY\n",
            "ISLAND\n"
          ]
        }
      ],
      "source": [
        "words = ['play', 'filling', 'bar', 'theatre', 'easygoing', 'date', 'lead', 'that', 'story', 'island']\n",
        "\n",
        "for word in words:\n",
        "    print(word.upper())"
      ]
    },
    {
      "cell_type": "markdown",
      "metadata": {
        "id": "VvaZsvMCN4uM"
      },
      "source": [
        "**Create a new list containing only words with 5 or more letters**"
      ]
    },
    {
      "cell_type": "code",
      "execution_count": 3,
      "metadata": {
        "colab": {
          "base_uri": "https://localhost:8080/"
        },
        "id": "P4EN-XlIN4uM",
        "outputId": "ec9026a2-5812-4ce3-d211-8dc7d53ec1c9"
      },
      "outputs": [
        {
          "output_type": "stream",
          "name": "stdout",
          "text": [
            "['filling', 'theatre', 'easygoing', 'story', 'island']\n"
          ]
        }
      ],
      "source": [
        "words = ['play', 'filling', 'bar', 'theatre', 'easygoing', 'date', 'lead', 'that', 'story', 'island']\n",
        "\n",
        "long_words = [word for word in words if len(word) >= 5]\n",
        "\n",
        "print(long_words)"
      ]
    },
    {
      "cell_type": "markdown",
      "metadata": {
        "id": "cy0aKmv6N4uN"
      },
      "source": [
        "[link text](`https://`)**Print the first word starting with \"t\"**"
      ]
    },
    {
      "cell_type": "code",
      "execution_count": 2,
      "metadata": {
        "colab": {
          "base_uri": "https://localhost:8080/"
        },
        "id": "d0VZ_VamN4uN",
        "outputId": "297bc0d2-3944-456a-c0f9-44f62a02dbea"
      },
      "outputs": [
        {
          "output_type": "stream",
          "name": "stdout",
          "text": [
            "theatre\n"
          ]
        }
      ],
      "source": [
        "for word in words:\n",
        "    if word.startswith('t'):\n",
        "        print(word)\n",
        "        break"
      ]
    },
    {
      "cell_type": "markdown",
      "metadata": {
        "id": "ewIT_bG_N4uO"
      },
      "source": [
        "## Numbers"
      ]
    },
    {
      "cell_type": "markdown",
      "metadata": {
        "id": "qXbFuL00N4uO"
      },
      "source": [
        "**Create a list containing the square of every number from 1 to 10**"
      ]
    },
    {
      "cell_type": "code",
      "execution_count": 5,
      "metadata": {
        "colab": {
          "base_uri": "https://localhost:8080/"
        },
        "id": "Sk2HbmJoN4uP",
        "outputId": "75834ff4-7370-45f5-d43b-0b4b4f6a4d36"
      },
      "outputs": [
        {
          "output_type": "stream",
          "name": "stdout",
          "text": [
            "[1, 4, 9, 16, 25, 36, 49, 64, 81, 100]\n"
          ]
        }
      ],
      "source": [
        "squares = [num ** 2 for num in range(1, 11)]\n",
        "print(squares)"
      ]
    },
    {
      "cell_type": "markdown",
      "metadata": {
        "id": "1dr0JPH_N4uQ"
      },
      "source": [
        "[link text](https://)**Print a list containing the square of every odd number from 1 to 10**"
      ]
    },
    {
      "cell_type": "code",
      "execution_count": 4,
      "metadata": {
        "colab": {
          "base_uri": "https://localhost:8080/"
        },
        "id": "E9_xQHXhN4uQ",
        "outputId": "e0bcdaa2-8a44-4012-fba4-5ca47001f217"
      },
      "outputs": [
        {
          "output_type": "stream",
          "name": "stdout",
          "text": [
            "[1, 9, 25, 49, 81]\n"
          ]
        }
      ],
      "source": [
        "squares = [x**2 for x in range(1, 11) if x % 2 != 0]\n",
        "print(squares)"
      ]
    },
    {
      "cell_type": "markdown",
      "metadata": {
        "id": "OA1EPjWaN4uR"
      },
      "source": [
        "**Create a list with the squares of all multiples of 8 below 1000**"
      ]
    },
    {
      "cell_type": "code",
      "execution_count": 8,
      "metadata": {
        "colab": {
          "base_uri": "https://localhost:8080/"
        },
        "id": "h4WNHGICN4uR",
        "outputId": "4b331805-4eed-4d59-f37a-0812098875e0"
      },
      "outputs": [
        {
          "output_type": "stream",
          "name": "stdout",
          "text": [
            "[64, 256, 576, 1024, 1600, 2304, 3136, 4096, 5184, 6400, 7744, 9216, 10816, 12544, 14400, 16384, 18496, 20736, 23104, 25600, 28224, 30976, 33856, 36864, 40000, 43264, 46656, 50176, 53824, 57600, 61504, 65536, 69696, 73984, 78400, 82944, 87616, 92416, 97344, 102400, 107584, 112896, 118336, 123904, 129600, 135424, 141376, 147456, 153664, 160000, 166464, 173056, 179776, 186624, 193600, 200704, 207936, 215296, 222784, 230400, 238144, 246016, 254016, 262144, 270400, 278784, 287296, 295936, 304704, 313600, 322624, 331776, 341056, 350464, 360000, 369664, 379456, 389376, 399424, 409600, 419904, 430336, 440896, 451584, 462400, 473344, 484416, 495616, 506944, 518400, 529984, 541696, 553536, 565504, 577600, 589824, 602176, 614656, 627264, 640000, 652864, 665856, 678976, 692224, 705600, 719104, 732736, 746496, 760384, 774400, 788544, 802816, 817216, 831744, 846400, 861184, 876096, 891136, 906304, 921600, 937024, 952576, 968256, 984064]\n"
          ]
        }
      ],
      "source": [
        "squares_of_multiples_of_8 = [num ** 2 for num in range(8, 1000, 8)]\n",
        "print(squares_of_multiples_of_8)"
      ]
    },
    {
      "cell_type": "markdown",
      "metadata": {
        "id": "PgY6hZYxN4uR"
      },
      "source": [
        "## People"
      ]
    },
    {
      "cell_type": "code",
      "execution_count": null,
      "metadata": {
        "id": "JxJ5m51UN4uS"
      },
      "outputs": [],
      "source": [
        "people = [\n",
        "    {\n",
        "        \"name\": \"Juan\",\n",
        "        \"age\": 34,\n",
        "        \"n_kids\": 2\n",
        "    },\n",
        "    {\n",
        "        \"name\": \"Pepe\",\n",
        "        \"age\": 27,\n",
        "        \"n_kids\": 0\n",
        "    },\n",
        "    {\n",
        "        \"name\": \"Sonia\",\n",
        "        \"age\": 41,\n",
        "        \"n_kids\": 1\n",
        "    },\n",
        "    {\n",
        "        \"name\": \"Lucía\",\n",
        "        \"age\": 22,\n",
        "        \"n_kids\": 2\n",
        "    },\n",
        "    {\n",
        "        \"name\": \"Leo\",\n",
        "        \"age\": 55,\n",
        "        \"n_kids\": 5\n",
        "    }\n",
        "]"
      ]
    },
    {
      "cell_type": "markdown",
      "metadata": {
        "id": "jmH0dvBoN4uT"
      },
      "source": [
        "[link text](https://)**How many people are there?**"
      ]
    },
    {
      "cell_type": "code",
      "execution_count": 7,
      "metadata": {
        "colab": {
          "base_uri": "https://localhost:8080/"
        },
        "id": "_wNLQlIoN4uU",
        "outputId": "e3c33856-c048-41fe-e94c-c8a2ce437dba"
      },
      "outputs": [
        {
          "output_type": "stream",
          "name": "stdout",
          "text": [
            "5\n"
          ]
        }
      ],
      "source": [
        "people = [\n",
        "    {\"name\": \"Juan\", \"age\": 34, \"n_kids\": 2},\n",
        "    {\"name\": \"Pepe\", \"age\": 27, \"n_kids\": 0},\n",
        "    {\"name\": \"Sonia\", \"age\": 41, \"n_kids\": 1},\n",
        "    {\"name\": \"Lucía\", \"age\": 22, \"n_kids\": 2},\n",
        "    {\"name\": \"Leo\", \"age\": 55, \"n_kids\": 5}\n",
        "]\n",
        "\n",
        "num_people = len(people)\n",
        "print(num_people)"
      ]
    },
    {
      "cell_type": "markdown",
      "metadata": {
        "id": "PVmJnMLnN4uV"
      },
      "source": [
        "**How many people have kids**?"
      ]
    },
    {
      "cell_type": "code",
      "execution_count": 10,
      "metadata": {
        "colab": {
          "base_uri": "https://localhost:8080/"
        },
        "id": "t5T-tnjHN4uV",
        "outputId": "c0bae92c-bd6a-4958-af8d-1e19caad3fa8"
      },
      "outputs": [
        {
          "output_type": "stream",
          "name": "stdout",
          "text": [
            "4\n"
          ]
        }
      ],
      "source": [
        "num_parents = sum(1 for person in people if person[\"n_kids\"] > 0)\n",
        "print(num_parents)"
      ]
    },
    {
      "cell_type": "markdown",
      "metadata": {
        "id": "sfwxoFaEN4uW"
      },
      "source": [
        "\n",
        "\n",
        "```\n",
        "# This is formatted as code\n",
        "```\n",
        "\n",
        "**How many kids do they have in total?**"
      ]
    },
    {
      "cell_type": "code",
      "execution_count": 9,
      "metadata": {
        "colab": {
          "base_uri": "https://localhost:8080/"
        },
        "id": "hfzg-UrBN4uW",
        "outputId": "90754e6f-efd8-41ca-b58f-f69f9463ee42"
      },
      "outputs": [
        {
          "output_type": "stream",
          "name": "stdout",
          "text": [
            "10\n"
          ]
        }
      ],
      "source": [
        "people = [\n",
        "    {\"name\": \"Juan\", \"age\": 34, \"n_kids\": 2},\n",
        "    {\"name\": \"Pepe\", \"age\": 27, \"n_kids\": 0},\n",
        "    {\"name\": \"Sonia\", \"age\": 41, \"n_kids\": 1},\n",
        "    {\"name\": \"Lucía\", \"age\": 22, \"n_kids\": 2},\n",
        "    {\"name\": \"Leo\", \"age\": 55, \"n_kids\": 5}\n",
        "]\n",
        "\n",
        "total_kids = sum(person[\"n_kids\"] for person in people)\n",
        "print(total_kids)"
      ]
    },
    {
      "cell_type": "markdown",
      "metadata": {
        "id": "_Kc6AnFmN4uX"
      },
      "source": [
        "\n",
        "\n",
        "```\n",
        "# This is formatted as code\n",
        "```\n",
        "\n",
        "**In a year's time, names ending with \"a\" will have an extra kid. Create a list of dictionaries with people's info in a year's time**"
      ]
    },
    {
      "cell_type": "code",
      "execution_count": 11,
      "metadata": {
        "colab": {
          "base_uri": "https://localhost:8080/"
        },
        "id": "jxPJZr_dN4uY",
        "outputId": "f1f292e0-5ad8-4584-a425-5a2e39240bc5"
      },
      "outputs": [
        {
          "output_type": "stream",
          "name": "stdout",
          "text": [
            "[{'name': 'Juan', 'age': 35, 'n_kids': 2}, {'name': 'Pepe', 'age': 28, 'n_kids': 0}, {'name': 'Sonia', 'age': 42, 'n_kids': 2}, {'name': 'Lucía', 'age': 23, 'n_kids': 3}, {'name': 'Leo', 'age': 56, 'n_kids': 5}]\n"
          ]
        }
      ],
      "source": [
        "people = [\n",
        "    {\"name\": \"Juan\", \"age\": 34, \"n_kids\": 2},\n",
        "    {\"name\": \"Pepe\", \"age\": 27, \"n_kids\": 0},\n",
        "    {\"name\": \"Sonia\", \"age\": 41, \"n_kids\": 1},\n",
        "    {\"name\": \"Lucía\", \"age\": 22, \"n_kids\": 2},\n",
        "    {\"name\": \"Leo\", \"age\": 55, \"n_kids\": 5}\n",
        "]\n",
        "\n",
        "updated_people = [\n",
        "    {\n",
        "        \"name\": person[\"name\"],\n",
        "        \"age\": person[\"age\"] + 1,\n",
        "        \"n_kids\": person[\"n_kids\"] + (1 if person[\"name\"].endswith(\"a\") else 0)\n",
        "    }\n",
        "    for person in people\n",
        "]\n",
        "\n",
        "print(updated_people)\n"
      ]
    }
  ],
  "metadata": {
    "kernelspec": {
      "display_name": "Python 3 (ipykernel)",
      "language": "python",
      "name": "python3"
    },
    "language_info": {
      "codemirror_mode": {
        "name": "ipython",
        "version": 3
      },
      "file_extension": ".py",
      "mimetype": "text/x-python",
      "name": "python",
      "nbconvert_exporter": "python",
      "pygments_lexer": "ipython3",
      "version": "3.9.13"
    },
    "toc": {
      "base_numbering": 1,
      "nav_menu": {},
      "number_sections": false,
      "sideBar": true,
      "skip_h1_title": false,
      "title_cell": "Table of Contents",
      "title_sidebar": "Contents",
      "toc_cell": false,
      "toc_position": {},
      "toc_section_display": true,
      "toc_window_display": true
    },
    "varInspector": {
      "cols": {
        "lenName": 16,
        "lenType": 16,
        "lenVar": 40
      },
      "kernels_config": {
        "python": {
          "delete_cmd_postfix": "",
          "delete_cmd_prefix": "del ",
          "library": "var_list.py",
          "varRefreshCmd": "print(var_dic_list())"
        },
        "r": {
          "delete_cmd_postfix": ") ",
          "delete_cmd_prefix": "rm(",
          "library": "var_list.r",
          "varRefreshCmd": "cat(var_dic_list()) "
        }
      },
      "types_to_exclude": [
        "module",
        "function",
        "builtin_function_or_method",
        "instance",
        "_Feature"
      ],
      "window_display": false
    },
    "vscode": {
      "interpreter": {
        "hash": "aee8b7b246df8f9039afb4144a1f6fd8d2ca17a180786b69acc140d282b71a49"
      }
    },
    "colab": {
      "provenance": []
    }
  },
  "nbformat": 4,
  "nbformat_minor": 0
}